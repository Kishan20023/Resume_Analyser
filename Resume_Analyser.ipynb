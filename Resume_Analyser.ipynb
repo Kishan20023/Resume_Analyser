{
  "cells": [
    {
      "cell_type": "markdown",
      "metadata": {
        "id": "view-in-github",
        "colab_type": "text"
      },
      "source": [
        "<a href=\"https://colab.research.google.com/github/Kishan20023/Resume_Analyser/blob/main/Resume_Analyser.ipynb\" target=\"_parent\"><img src=\"https://colab.research.google.com/assets/colab-badge.svg\" alt=\"Open In Colab\"/></a>"
      ]
    },
    {
      "cell_type": "code",
      "execution_count": null,
      "metadata": {
        "id": "ZkZ_P5p_JWl6",
        "colab": {
          "base_uri": "https://localhost:8080/"
        },
        "outputId": "6966b2b7-39e5-4167-dfc6-d46eb10cf566"
      },
      "outputs": [
        {
          "output_type": "stream",
          "name": "stdout",
          "text": [
            "Collecting docx2txt\n",
            "  Downloading docx2txt-0.8.tar.gz (2.8 kB)\n",
            "  Preparing metadata (setup.py) ... \u001b[?25l\u001b[?25hdone\n",
            "Building wheels for collected packages: docx2txt\n",
            "  Building wheel for docx2txt (setup.py) ... \u001b[?25l\u001b[?25hdone\n",
            "  Created wheel for docx2txt: filename=docx2txt-0.8-py3-none-any.whl size=3959 sha256=eaada2a8e17dbc89d3bdc7d6b0134a2e8f740e82dbc43d8912f1ed21407cddef\n",
            "  Stored in directory: /root/.cache/pip/wheels/22/58/cf/093d0a6c3ecfdfc5f6ddd5524043b88e59a9a199cb02352966\n",
            "Successfully built docx2txt\n",
            "Installing collected packages: docx2txt\n",
            "Successfully installed docx2txt-0.8\n"
          ]
        }
      ],
      "source": [
        "!pip install docx2txt"
      ]
    },
    {
      "cell_type": "code",
      "execution_count": null,
      "metadata": {
        "id": "1wp4PGqbJvJL"
      },
      "outputs": [],
      "source": [
        "import docx2txt"
      ]
    },
    {
      "cell_type": "code",
      "execution_count": 1,
      "metadata": {
        "id": "08M_XCcuJ44i",
        "colab": {
          "base_uri": "https://localhost:8080/",
          "height": 108
        },
        "outputId": "2c83f606-97e5-432d-8b99-b2e9ca92abe3"
      },
      "outputs": [
        {
          "output_type": "display_data",
          "data": {
            "text/plain": [
              "<IPython.core.display.HTML object>"
            ],
            "text/html": [
              "\n",
              "     <input type=\"file\" id=\"files-b0270cab-4eae-407f-88f7-12d38bb8e4ed\" name=\"files[]\" multiple disabled\n",
              "        style=\"border:none\" />\n",
              "     <output id=\"result-b0270cab-4eae-407f-88f7-12d38bb8e4ed\">\n",
              "      Upload widget is only available when the cell has been executed in the\n",
              "      current browser session. Please rerun this cell to enable.\n",
              "      </output>\n",
              "      <script>// Copyright 2017 Google LLC\n",
              "//\n",
              "// Licensed under the Apache License, Version 2.0 (the \"License\");\n",
              "// you may not use this file except in compliance with the License.\n",
              "// You may obtain a copy of the License at\n",
              "//\n",
              "//      http://www.apache.org/licenses/LICENSE-2.0\n",
              "//\n",
              "// Unless required by applicable law or agreed to in writing, software\n",
              "// distributed under the License is distributed on an \"AS IS\" BASIS,\n",
              "// WITHOUT WARRANTIES OR CONDITIONS OF ANY KIND, either express or implied.\n",
              "// See the License for the specific language governing permissions and\n",
              "// limitations under the License.\n",
              "\n",
              "/**\n",
              " * @fileoverview Helpers for google.colab Python module.\n",
              " */\n",
              "(function(scope) {\n",
              "function span(text, styleAttributes = {}) {\n",
              "  const element = document.createElement('span');\n",
              "  element.textContent = text;\n",
              "  for (const key of Object.keys(styleAttributes)) {\n",
              "    element.style[key] = styleAttributes[key];\n",
              "  }\n",
              "  return element;\n",
              "}\n",
              "\n",
              "// Max number of bytes which will be uploaded at a time.\n",
              "const MAX_PAYLOAD_SIZE = 100 * 1024;\n",
              "\n",
              "function _uploadFiles(inputId, outputId) {\n",
              "  const steps = uploadFilesStep(inputId, outputId);\n",
              "  const outputElement = document.getElementById(outputId);\n",
              "  // Cache steps on the outputElement to make it available for the next call\n",
              "  // to uploadFilesContinue from Python.\n",
              "  outputElement.steps = steps;\n",
              "\n",
              "  return _uploadFilesContinue(outputId);\n",
              "}\n",
              "\n",
              "// This is roughly an async generator (not supported in the browser yet),\n",
              "// where there are multiple asynchronous steps and the Python side is going\n",
              "// to poll for completion of each step.\n",
              "// This uses a Promise to block the python side on completion of each step,\n",
              "// then passes the result of the previous step as the input to the next step.\n",
              "function _uploadFilesContinue(outputId) {\n",
              "  const outputElement = document.getElementById(outputId);\n",
              "  const steps = outputElement.steps;\n",
              "\n",
              "  const next = steps.next(outputElement.lastPromiseValue);\n",
              "  return Promise.resolve(next.value.promise).then((value) => {\n",
              "    // Cache the last promise value to make it available to the next\n",
              "    // step of the generator.\n",
              "    outputElement.lastPromiseValue = value;\n",
              "    return next.value.response;\n",
              "  });\n",
              "}\n",
              "\n",
              "/**\n",
              " * Generator function which is called between each async step of the upload\n",
              " * process.\n",
              " * @param {string} inputId Element ID of the input file picker element.\n",
              " * @param {string} outputId Element ID of the output display.\n",
              " * @return {!Iterable<!Object>} Iterable of next steps.\n",
              " */\n",
              "function* uploadFilesStep(inputId, outputId) {\n",
              "  const inputElement = document.getElementById(inputId);\n",
              "  inputElement.disabled = false;\n",
              "\n",
              "  const outputElement = document.getElementById(outputId);\n",
              "  outputElement.innerHTML = '';\n",
              "\n",
              "  const pickedPromise = new Promise((resolve) => {\n",
              "    inputElement.addEventListener('change', (e) => {\n",
              "      resolve(e.target.files);\n",
              "    });\n",
              "  });\n",
              "\n",
              "  const cancel = document.createElement('button');\n",
              "  inputElement.parentElement.appendChild(cancel);\n",
              "  cancel.textContent = 'Cancel upload';\n",
              "  const cancelPromise = new Promise((resolve) => {\n",
              "    cancel.onclick = () => {\n",
              "      resolve(null);\n",
              "    };\n",
              "  });\n",
              "\n",
              "  // Wait for the user to pick the files.\n",
              "  const files = yield {\n",
              "    promise: Promise.race([pickedPromise, cancelPromise]),\n",
              "    response: {\n",
              "      action: 'starting',\n",
              "    }\n",
              "  };\n",
              "\n",
              "  cancel.remove();\n",
              "\n",
              "  // Disable the input element since further picks are not allowed.\n",
              "  inputElement.disabled = true;\n",
              "\n",
              "  if (!files) {\n",
              "    return {\n",
              "      response: {\n",
              "        action: 'complete',\n",
              "      }\n",
              "    };\n",
              "  }\n",
              "\n",
              "  for (const file of files) {\n",
              "    const li = document.createElement('li');\n",
              "    li.append(span(file.name, {fontWeight: 'bold'}));\n",
              "    li.append(span(\n",
              "        `(${file.type || 'n/a'}) - ${file.size} bytes, ` +\n",
              "        `last modified: ${\n",
              "            file.lastModifiedDate ? file.lastModifiedDate.toLocaleDateString() :\n",
              "                                    'n/a'} - `));\n",
              "    const percent = span('0% done');\n",
              "    li.appendChild(percent);\n",
              "\n",
              "    outputElement.appendChild(li);\n",
              "\n",
              "    const fileDataPromise = new Promise((resolve) => {\n",
              "      const reader = new FileReader();\n",
              "      reader.onload = (e) => {\n",
              "        resolve(e.target.result);\n",
              "      };\n",
              "      reader.readAsArrayBuffer(file);\n",
              "    });\n",
              "    // Wait for the data to be ready.\n",
              "    let fileData = yield {\n",
              "      promise: fileDataPromise,\n",
              "      response: {\n",
              "        action: 'continue',\n",
              "      }\n",
              "    };\n",
              "\n",
              "    // Use a chunked sending to avoid message size limits. See b/62115660.\n",
              "    let position = 0;\n",
              "    do {\n",
              "      const length = Math.min(fileData.byteLength - position, MAX_PAYLOAD_SIZE);\n",
              "      const chunk = new Uint8Array(fileData, position, length);\n",
              "      position += length;\n",
              "\n",
              "      const base64 = btoa(String.fromCharCode.apply(null, chunk));\n",
              "      yield {\n",
              "        response: {\n",
              "          action: 'append',\n",
              "          file: file.name,\n",
              "          data: base64,\n",
              "        },\n",
              "      };\n",
              "\n",
              "      let percentDone = fileData.byteLength === 0 ?\n",
              "          100 :\n",
              "          Math.round((position / fileData.byteLength) * 100);\n",
              "      percent.textContent = `${percentDone}% done`;\n",
              "\n",
              "    } while (position < fileData.byteLength);\n",
              "  }\n",
              "\n",
              "  // All done.\n",
              "  yield {\n",
              "    response: {\n",
              "      action: 'complete',\n",
              "    }\n",
              "  };\n",
              "}\n",
              "\n",
              "scope.google = scope.google || {};\n",
              "scope.google.colab = scope.google.colab || {};\n",
              "scope.google.colab._files = {\n",
              "  _uploadFiles,\n",
              "  _uploadFilesContinue,\n",
              "};\n",
              "})(self);\n",
              "</script> "
            ]
          },
          "metadata": {}
        },
        {
          "output_type": "stream",
          "name": "stdout",
          "text": [
            "Saving python-developer2 - Template 18.docx to python-developer2 - Template 18.docx\n",
            "Saving Software Engineer Requirements.docx to Software Engineer Requirements.docx\n"
          ]
        }
      ],
      "source": [
        "from google.colab import files\n",
        "uploaded=files.upload()"
      ]
    },
    {
      "cell_type": "code",
      "execution_count": null,
      "metadata": {
        "colab": {
          "base_uri": "https://localhost:8080/"
        },
        "id": "D6dEwdeWLsoT",
        "outputId": "1a8b1f1a-7d8e-49cd-a645-9dc9017f9651"
      },
      "outputs": [
        {
          "output_type": "stream",
          "name": "stdout",
          "text": [
            "CONTACT\n",
            "\n",
            "\n",
            "\n",
            "\tBradford, United Kingdom\n",
            "\n",
            "• +44 1234567890\n",
            "\n",
            "\tﬁrst.last@gmail.com\n",
            "\n",
            "\n",
            "\n",
            "SKILLS\n",
            "\n",
            "\n",
            "\n",
            "Hard Skills:\n",
            "\n",
            "\tDeep Learning\n",
            "\n",
            "\tData Structures\n",
            "\n",
            "\tGenerators\n",
            "\n",
            "\tIterators\n",
            "\n",
            "\tMulti-Process Architecture\n",
            "\n",
            "\tObject Relational Mapping\n",
            "\n",
            "\n",
            "\n",
            "Scripting:\n",
            "\n",
            "\tPython\n",
            "\n",
            "\tShell\n",
            "\n",
            "\tPerl\n",
            "\n",
            "\n",
            "\n",
            "Source Code Management Tools:\n",
            "\n",
            "\tGitLab\n",
            "\n",
            "\tMercurial\n",
            "\n",
            "\tApache Subversion (SVN)\n",
            "\n",
            "\tCVS\n",
            "\n",
            "\n",
            "\n",
            "Languages:\n",
            "\n",
            "\tEnglish (Native)\n",
            "\n",
            "\tRomanian (Native)\n",
            "\n",
            "\tSpanish (Conversational)\n",
            "\n",
            "\n",
            "\n",
            "EDUCATION\n",
            "\n",
            "\n",
            "\n",
            "Associate in Applied Science\n",
            "\n",
            "Computer Science Cultural Studies\n",
            "\n",
            "New York City, New York 10/2011 - 06/2014\n",
            "\n",
            "\n",
            "\n",
            "OTHER\n",
            "\n",
            "\n",
            "\n",
            "\tCertiﬁed Entry-Level Python Programmer\n",
            "\n",
            "\tCertiﬁed Associate in Python Programming\n",
            "\n",
            "First Last\n",
            "\n",
            "Python Developer\n",
            "\n",
            "\n",
            "\n",
            "WORK EXPERIENCE\n",
            "\n",
            "\n",
            "\n",
            "\n",
            "\n",
            "Resume Worded, London, United Kingdom\n",
            "\n",
            "VR gaming startup with 50+ employees and $100m+ annual revenue\n",
            "\n",
            "\tPython Developer\t01/2022 – Present\n",
            "\n",
            "\t\tCreated the back-end ﬁnancial systems that made 20+ RW applications user-friendly and seamless to navigate.\n",
            "\n",
            "\t\tDeveloped and updated productivity applications, which increased user downloads by 30% within 96 hours of release.\n",
            "\n",
            "\t\tSupervised programming tasks and maintained 10+ company websites with a 50% success rate in product update deployment.\n",
            "\n",
            "\t\tDesigned a marketing lead MySQL database that categorized and ﬁltered 740+ leads from several sources.\n",
            "\n",
            "\n",
            "\n",
            "Polyhire, London, United Kingdom\n",
            "\n",
            "NYSE-listed recruitment and employer branding company\n",
            "\n",
            "\tTechnical Support Specialist\t10/2019 – 12/2021\n",
            "\n",
            "\t\tResponded to and resolved 300+ customer questions about implementing access software, CMS, IP Cameras, DVRs, and Access Control.\n",
            "\n",
            "\t\tProvided technical solutions for 70+ Small and Medium-sized enterprises (SMEs) and 20+ micro-merchants, which accounted for 38% of Polyhire card payments.\n",
            "\n",
            "\t\tDiscovered a software glitch that prevented 150+ customers from accessing their accounts in the ﬁrst week of employment.\n",
            "\n",
            "\t\tAnswered customers' inquiries within 60+ seconds of contact via chat sessions and live support.\n",
            "\n",
            "Growthsi, London, United Kingdom & Barcelona, Spain\n",
            "\n",
            "Career training and membership SaaS with 150,000 users\n",
            "\n",
            "\tJunior Software Developer\t11/2018 – 09/2019\n",
            "\n",
            "\t\tCreated a user interface as a single-page application using React and MobX; increased the productivity of 1100+ users by 64%.\n",
            "\n",
            "\t\tImplemented functionality to support disconnected client machines, which enabled 420+ customers to work oﬄine without losing data.\n",
            "\n",
            "\t\tDesigned a data dictionary generator that creates documentation for 1200+ developers as spreadsheets and web pages.\n",
            "\n",
            "\t\tLaunched a search engine for consumers to search for ATM locations in 20+ states, saving institutions $50K on data research.\n",
            "\n",
            "\n",
            "\n",
            "PREVIOUS EXPERIENCE\n",
            "\n",
            "\n",
            "\n",
            "\n",
            "\n",
            "\tCoder, ABC Company, London, UK\t06/2017 – 10/2018\n",
            "\n",
            "\tEthical Hacker, XYZ Company, New York, USA\t01/2016 – 05/2017\n",
            "\n",
            "\tApplication Developer, ABC, New York, USA\t07/2014 – 12/2015\n"
          ]
        }
      ],
      "source": [
        "resume=docx2txt.process(\"python-developer2 - Template 18.docx\")\n",
        "print(resume)"
      ]
    },
    {
      "cell_type": "code",
      "execution_count": null,
      "metadata": {
        "colab": {
          "base_uri": "https://localhost:8080/"
        },
        "id": "E2cE-xxKMGOQ",
        "outputId": "1c2d7f3b-a4a4-4f9f-b5eb-bd4b694feacb"
      },
      "outputs": [
        {
          "output_type": "stream",
          "name": "stdout",
          "text": [
            "Software Engineer, ML\n",
            "\n",
            "Minimum qualifications:\n",
            "\n",
            "Bachelor's degree in Computer Science, related technical field, or equivalent practical experience\n",
            "\n",
            "5 years of experience building ML models or reducing ML model compute and memory costs (e.g., quantization, sparsification, pruning)\n",
            "\n",
            "3 years of experience working with Machine Learning or Artificial Intelligence\n",
            "\n",
            "Preferred qualifications:\n",
            "\n",
            "PhD in Computer Science or related field\n",
            "\n",
            "Experience working on ML accelerators or other accelerators such as a GPU or DSP\n",
            "\n",
            "Experience with JAX and/or TensorFlow\n",
            "\n",
            "Experience with training ML models\n",
            "\n",
            "Experience with optimizing ML models\n",
            "\n",
            "Understanding of performance implications of processor architecture from a software point of view\n",
            "\n",
            "About the job\n",
            "\n",
            "Google's mission is to organize the world's information and make it universally accessible and useful. Our Devices and Services team combines the best of Google AI, Software, and Hardware to create radically helpful experiences for users. We research, design, and develop new technologies and hardware to make our user's interaction with computing faster, seamless, and more powerful. Whether finding new ways to capture and sense the world around us, advancing form factors, or improving interaction methods, the Devices and Services team is making people's lives better through technology\n",
            "\n",
            "Responsibilities\n",
            "\n",
            "Develop and optimize ML models for EdgeTPU, for example in a Pixel phone.\n",
            "\n",
            "Collaborate with ML model optimization teams to develop, enhance, and maintain model exploration tools.\n",
            "\n",
            "Collaborate with ML model developers to integrate their authoring and training workflows into the developed tooling.\n",
            "\n",
            "Collaborate with teams across Google to enable experiences to effectively utilize the EdgeTPU\n"
          ]
        }
      ],
      "source": [
        "job_description=docx2txt.process(\"Software Engineer Requirements.docx\")\n",
        "print(job_description)"
      ]
    },
    {
      "cell_type": "code",
      "execution_count": null,
      "metadata": {
        "id": "CRH3Z3UuMhW2"
      },
      "outputs": [],
      "source": [
        "text=[resume,job_description]"
      ]
    },
    {
      "cell_type": "code",
      "execution_count": null,
      "metadata": {
        "id": "EI325UsDMnCF"
      },
      "outputs": [],
      "source": [
        "from sklearn.feature_extraction.text import CountVectorizer\n",
        "cv=CountVectorizer()\n",
        "count_matrix=cv.fit_transform(text)"
      ]
    },
    {
      "cell_type": "code",
      "execution_count": null,
      "metadata": {
        "colab": {
          "base_uri": "https://localhost:8080/"
        },
        "id": "G6QZPJwqM5rQ",
        "outputId": "ccc9d4a8-174d-4796-cb56-e9f4cad364d9"
      },
      "outputs": [
        {
          "output_type": "stream",
          "name": "stdout",
          "text": [
            "\n",
            "Similarity Scores:\n",
            "[[1.         0.45095669]\n",
            " [0.45095669 1.        ]]\n"
          ]
        }
      ],
      "source": [
        "from sklearn.metrics.pairwise import cosine_similarity\n",
        "print(\"\\nSimilarity Scores:\")\n",
        "print(cosine_similarity(count_matrix))"
      ]
    },
    {
      "cell_type": "code",
      "execution_count": null,
      "metadata": {
        "colab": {
          "base_uri": "https://localhost:8080/"
        },
        "id": "YoAU1OupNO2t",
        "outputId": "5d4adea5-ae48-4777-9dfa-797306156b55"
      },
      "outputs": [
        {
          "output_type": "stream",
          "name": "stdout",
          "text": [
            "Your resume matches about 45.1 % of the job description.\n"
          ]
        }
      ],
      "source": [
        "matchPercentage=cosine_similarity(count_matrix)[0][1]*100\n",
        "matchPercentage=round(matchPercentage,2)\n",
        "print(\"Your resume matches about \"+str(matchPercentage)+\" % of the job description.\")"
      ]
    }
  ],
  "metadata": {
    "colab": {
      "provenance": [],
      "include_colab_link": true
    },
    "kernelspec": {
      "display_name": "Python 3",
      "name": "python3"
    },
    "language_info": {
      "name": "python"
    }
  },
  "nbformat": 4,
  "nbformat_minor": 0
}